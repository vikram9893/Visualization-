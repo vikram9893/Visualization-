{
 "cells": [
  {
   "cell_type": "code",
   "execution_count": null,
   "id": "aa4e42fe-b83d-462a-bae1-0193afa91c77",
   "metadata": {},
   "outputs": [],
   "source": [
    "Ans 1 \n",
    "Seaborn is a popular data visualization library in Python that is built on top of Matplotlib. It provides a high-level interface for creating attractive and informative statistical graphics. Here are five common plots that can be created using Seaborn, along with their typical use cases:\n",
    "\n",
    "Scatter plot:\n",
    "\n",
    "Use: Visualize the relationship between two continuous variables.\n",
    "Example use case: Analyzing the correlation between a car's horsepower and its fuel efficiency.\n",
    "Line plot:\n",
    "\n",
    "Use: Display the trend of one or more continuous variables over a continuous x-axis.\n",
    "Example use case: Showing the fluctuation of stock prices over time.\n",
    "Bar plot:\n",
    "\n",
    "Use: Compare values of different categories using rectangular bars.\n",
    "Example use case: Visualizing the sales performance of different products or the distribution of population across various age groups.\n",
    "Histogram:\n",
    "\n",
    "Use: Examine the distribution of a single continuous variable.\n",
    "Example use case: Analyzing the distribution of student test scores in a class.\n",
    "Box plot:\n",
    "\n",
    "Use: Display the distribution of a continuous variable across different categories.\n",
    "Example use case: Comparing the salaries of employees in different job positions."
   ]
  },
  {
   "cell_type": "code",
   "execution_count": null,
   "id": "4c2dc542-825d-4158-b9fc-e3a49260e8c3",
   "metadata": {},
   "outputs": [],
   "source": [
    "Ans 2 \n",
    "import seaborn as sns\n",
    "\n",
    "# Load the \"fmri\" dataset\n",
    "fmri_dataset = sns.load_dataset(\"fmri\")\n",
    "\n",
    "# Plot line plot for different events and regions\n",
    "sns.lineplot(data=fmri_dataset, x=\"timepoint\", y=\"signal\", hue=\"event\", style=\"region\")\n",
    "\n",
    "# Display the plot\n",
    "plt.show()\n"
   ]
  },
  {
   "cell_type": "code",
   "execution_count": null,
   "id": "86944a27-155f-43c2-b4e7-501b877a7c02",
   "metadata": {},
   "outputs": [],
   "source": [
    "Ans 3 \n",
    "import seaborn as sns\n",
    "import matplotlib.pyplot as plt\n",
    "\n",
    "# Load the \"titanic\" dataset\n",
    "titanic_dataset = sns.load_dataset(\"titanic\")\n",
    "\n",
    "# Plot box plots for age and fare based on pclass\n",
    "plt.figure(figsize=(10, 5))\n",
    "plt.subplot(1, 2, 1)\n",
    "sns.boxplot(data=titanic_dataset, x='pclass', y='age')\n",
    "plt.title('Age by Pclass')\n",
    "plt.subplot(1, 2, 2)\n",
    "sns.boxplot(data=titanic_dataset, x='pclass', y='fare')\n",
    "plt.title('Fare by Pclass')\n",
    "\n",
    "# Adjust the layout and display the plot\n",
    "plt.tight_layout()\n",
    "plt.show()\n"
   ]
  },
  {
   "cell_type": "code",
   "execution_count": null,
   "id": "7725abf7-d63d-44c0-97e3-94b2a18b3bd7",
   "metadata": {},
   "outputs": [],
   "source": [
    "Ans 4 \n",
    "import seaborn as sns\n",
    "import matplotlib.pyplot as plt\n",
    "\n",
    "# Load the \"diamonds\" dataset\n",
    "diamonds_dataset = sns.load_dataset(\"diamonds\")\n",
    "\n",
    "# Plot histogram for 'price' with hue based on 'cut'\n",
    "sns.histplot(data=diamonds_dataset, x='price', hue='cut', kde=True)\n",
    "\n",
    "# Set the labels and title\n",
    "plt.xlabel('Price')\n",
    "plt.ylabel('Count')\n",
    "plt.title('Histogram of Price by Cut')\n",
    "\n",
    "# Display the plot\n",
    "plt.show()\n"
   ]
  },
  {
   "cell_type": "code",
   "execution_count": null,
   "id": "0cb1a8a4-fd95-48de-b608-c7e192cec206",
   "metadata": {},
   "outputs": [],
   "source": [
    "Ans 5 \n",
    "import seaborn as sns\n",
    "\n",
    "# Load the \"iris\" dataset\n",
    "iris_dataset = sns.load_dataset(\"iris\")\n",
    "\n",
    "# Plot pair plot with hue based on 'species'\n",
    "sns.pairplot(data=iris_dataset, hue='species')\n",
    "\n",
    "# Display the plot\n",
    "plt.show()\n"
   ]
  },
  {
   "cell_type": "code",
   "execution_count": null,
   "id": "1db85fe2-6a49-42f2-b5bf-3d4c8e957521",
   "metadata": {},
   "outputs": [],
   "source": [
    "Ans 6\n",
    "import seaborn as sns\n",
    "import matplotlib.pyplot as plt\n",
    "\n",
    "# Load the \"flights\" dataset\n",
    "flights_dataset = sns.load_dataset(\"flights\")\n",
    "\n",
    "# Reshape the data for heatmap\n",
    "flights_pivot = flights_dataset.pivot(\"month\", \"year\", \"passengers\")\n",
    "\n",
    "# Plot the heatmap\n",
    "sns.heatmap(flights_pivot, cmap=\"YlGnBu\")\n",
    "\n",
    "# Set the labels and title\n",
    "plt.xlabel('Year')\n",
    "plt.ylabel('Month')\n",
    "plt.title('Number of Passengers')\n",
    "\n",
    "# Display the plot\n",
    "plt.show()\n"
   ]
  }
 ],
 "metadata": {
  "kernelspec": {
   "display_name": "Python 3 (ipykernel)",
   "language": "python",
   "name": "python3"
  },
  "language_info": {
   "codemirror_mode": {
    "name": "ipython",
    "version": 3
   },
   "file_extension": ".py",
   "mimetype": "text/x-python",
   "name": "python",
   "nbconvert_exporter": "python",
   "pygments_lexer": "ipython3",
   "version": "3.10.8"
  }
 },
 "nbformat": 4,
 "nbformat_minor": 5
}
